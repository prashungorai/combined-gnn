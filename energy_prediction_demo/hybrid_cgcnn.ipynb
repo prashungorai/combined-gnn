{
 "cells": [
  {
   "cell_type": "code",
   "execution_count": 1,
   "metadata": {},
   "outputs": [],
   "source": [
    "# load all modules\n",
    "import numpy as np\n",
    "import pandas as pd\n",
    "\n",
    "import pickle\n",
    "import tensorflow as tf\n",
    "import tensorflow_addons as tfa\n",
    "import nfp\n",
    "from nfp_extensions import RBFExpansion, CifPreprocessor\n",
    "\n",
    "from pymatgen.core.structure import Structure\n",
    "from tqdm import tqdm"
   ]
  },
  {
   "cell_type": "code",
   "execution_count": 2,
   "metadata": {},
   "outputs": [],
   "source": [
    "# Initialize the preprocessor class.\n",
    "preprocessor = CifPreprocessor(num_neighbors=12)\n",
    "preprocessor.from_json('preprocessor_hybrid.json')\n",
    "\n",
    "#load the hybrid model\n",
    "model = tf.keras.models.load_model(\n",
    "    'hybrid_model.hdf5',\n",
    "    custom_objects={**nfp.custom_objects, **{'RBFExpansion': RBFExpansion}})\n",
    "\n",
    "# load test set \n",
    "# demo to predict energies of five hypothetical crystals from \"hypothetical_structure_energies.csv\"\n",
    "test = pd.read_csv('hypothetical_structure_energies.csv')\n",
    "test = test.head(5)\n",
    "\n",
    "# path to POSCARs\n",
    "# unzip \"relaxed_hypothetical_structures.tar.gz\"\n",
    "poscar_file = lambda x: 'relaxed_hypotheticals/POSCAR_{}'.format(x)\n",
    "get_crystal = lambda x: Structure.from_file(poscar_file(x), primitive=True)\n",
    "\n",
    "# construct features for test set\n",
    "test_dataset = tf.data.Dataset.from_generator(\n",
    "    lambda: (preprocessor.construct_feature_matrices(get_crystal(id), train=False)\n",
    "             for id in tqdm(test.structure_id)),\n",
    "    output_types=preprocessor.output_types,\n",
    "    output_shapes=preprocessor.output_shapes)\\\n",
    "    .padded_batch(batch_size=32,\n",
    "                  padded_shapes=preprocessor.padded_shapes(max_sites=256, max_bonds=2048),\n",
    "                  padding_values=preprocessor.padding_values)"
   ]
  },
  {
   "cell_type": "code",
   "execution_count": 3,
   "metadata": {},
   "outputs": [
    {
     "name": "stderr",
     "output_type": "stream",
     "text": [
      "100%|████████████████████████████████████████████████████████████████████████████████████| 5/5 [00:00<00:00,  8.93it/s]\n"
     ]
    }
   ],
   "source": [
    "# predict energies \n",
    "predictions = model.predict(test_dataset)\n",
    "\n",
    "# save predicted energies\n",
    "test['predicted_energyperatom'] = predictions\n",
    "test.to_csv('predicted_test.csv', index=False)"
   ]
  },
  {
   "cell_type": "code",
   "execution_count": 4,
   "metadata": {},
   "outputs": [
    {
     "data": {
      "text/html": [
       "<div>\n",
       "<style scoped>\n",
       "    .dataframe tbody tr th:only-of-type {\n",
       "        vertical-align: middle;\n",
       "    }\n",
       "\n",
       "    .dataframe tbody tr th {\n",
       "        vertical-align: top;\n",
       "    }\n",
       "\n",
       "    .dataframe thead th {\n",
       "        text-align: right;\n",
       "    }\n",
       "</style>\n",
       "<table border=\"1\" class=\"dataframe\">\n",
       "  <thead>\n",
       "    <tr style=\"text-align: right;\">\n",
       "      <th></th>\n",
       "      <th>composition</th>\n",
       "      <th>structure_id</th>\n",
       "      <th>energyperatom</th>\n",
       "      <th>predicted_energyperatom</th>\n",
       "    </tr>\n",
       "  </thead>\n",
       "  <tbody>\n",
       "    <tr>\n",
       "      <th>0</th>\n",
       "      <td>K1Zn1Bi1</td>\n",
       "      <td>KZnBi_NaBeSb_194</td>\n",
       "      <td>-2.366290</td>\n",
       "      <td>-2.363573</td>\n",
       "    </tr>\n",
       "    <tr>\n",
       "      <th>1</th>\n",
       "      <td>K1Zn1Bi1</td>\n",
       "      <td>KZnBi_NaBeAs_194</td>\n",
       "      <td>-2.366068</td>\n",
       "      <td>-2.361630</td>\n",
       "    </tr>\n",
       "    <tr>\n",
       "      <th>2</th>\n",
       "      <td>K1Zn1Bi1</td>\n",
       "      <td>KZnBi_LiBeSb_186</td>\n",
       "      <td>-2.365981</td>\n",
       "      <td>-2.362384</td>\n",
       "    </tr>\n",
       "    <tr>\n",
       "      <th>3</th>\n",
       "      <td>K1Zn1Bi1</td>\n",
       "      <td>KZnBi_EuPPt_164</td>\n",
       "      <td>-2.365732</td>\n",
       "      <td>-2.364271</td>\n",
       "    </tr>\n",
       "    <tr>\n",
       "      <th>4</th>\n",
       "      <td>K1Zn1Bi1</td>\n",
       "      <td>KZnBi_KZnSb_194_2</td>\n",
       "      <td>-2.358296</td>\n",
       "      <td>-2.358582</td>\n",
       "    </tr>\n",
       "  </tbody>\n",
       "</table>\n",
       "</div>"
      ],
      "text/plain": [
       "  composition       structure_id  energyperatom  predicted_energyperatom\n",
       "0    K1Zn1Bi1   KZnBi_NaBeSb_194      -2.366290                -2.363573\n",
       "1    K1Zn1Bi1   KZnBi_NaBeAs_194      -2.366068                -2.361630\n",
       "2    K1Zn1Bi1   KZnBi_LiBeSb_186      -2.365981                -2.362384\n",
       "3    K1Zn1Bi1    KZnBi_EuPPt_164      -2.365732                -2.364271\n",
       "4    K1Zn1Bi1  KZnBi_KZnSb_194_2      -2.358296                -2.358582"
      ]
     },
     "execution_count": 4,
     "metadata": {},
     "output_type": "execute_result"
    }
   ],
   "source": [
    "# predicted energies\n",
    "test"
   ]
  }
 ],
 "metadata": {
  "kernelspec": {
   "display_name": "Python 3",
   "language": "python",
   "name": "python3"
  },
  "language_info": {
   "codemirror_mode": {
    "name": "ipython",
    "version": 3
   },
   "file_extension": ".py",
   "mimetype": "text/x-python",
   "name": "python",
   "nbconvert_exporter": "python",
   "pygments_lexer": "ipython3",
   "version": "3.7.3"
  }
 },
 "nbformat": 4,
 "nbformat_minor": 4
}
